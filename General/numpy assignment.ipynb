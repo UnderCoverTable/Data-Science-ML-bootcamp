{
 "cells": [
  {
   "cell_type": "code",
   "execution_count": 14,
   "id": "2a8a0fa8-ceee-4b65-9739-39bdbf33d23c",
   "metadata": {},
   "outputs": [],
   "source": [
    "import numpy as np"
   ]
  },
  {
   "cell_type": "markdown",
   "id": "6cd94836-36bf-4eca-a68c-4d4afb52ef7d",
   "metadata": {},
   "source": [
    "# Q1"
   ]
  },
  {
   "cell_type": "markdown",
   "id": "26a82645-942a-40ba-9d5b-a58c65d27817",
   "metadata": {},
   "source": [
    "Statement: Given a 3D NumPy array arr of shape (2, 3, 4), write a code snippet to calculate the sum of all elements in the array.\n",
    "\n",
    "Sample Input:"
   ]
  },
  {
   "cell_type": "code",
   "execution_count": 15,
   "id": "dbf71bf2-1ac9-48f3-96fb-5f22ad767b29",
   "metadata": {},
   "outputs": [],
   "source": [
    "arr = np.array([[[1, 2, 3, 4],\n",
    "                 [5, 6, 7, 8],\n",
    "                 [9, 10, 11, 12]],\n",
    "                [[13, 14, 15, 16],\n",
    "                 [17, 18, 19, 20],\n",
    "                 [21, 22, 23, 24]]])\n",
    "\n",
    "# sample output: 162"
   ]
  },
  {
   "cell_type": "markdown",
   "id": "14bd52a2-86d8-4ef6-b1ee-de66e9703458",
   "metadata": {},
   "source": [
    "# Q2"
   ]
  },
  {
   "cell_type": "markdown",
   "id": "9a536e77-25c6-4b63-906b-7aa8eaaa073e",
   "metadata": {},
   "source": [
    "Statement: Write a NumPy code snippet to create a 4D array arr of shape (2, 3, 4, 5) filled with random integers ranging from 0 to 9.\n",
    "\n",
    "Sample Output:"
   ]
  },
  {
   "cell_type": "code",
   "execution_count": 16,
   "id": "5602b3f2-13e2-4585-9870-9bc07563c60e",
   "metadata": {},
   "outputs": [],
   "source": [
    "arr = np.array([[[[1, 2, 3, 4, 5],\n",
    "                  [6, 7, 8, 9, 0],\n",
    "                  [1, 2, 3, 4, 5],\n",
    "                  [6, 7, 8, 9, 0]],\n",
    "                 [[1, 2, 3, 4, 5],\n",
    "                  [6, 7, 8, 9, 0],\n",
    "                  [1, 2, 3, 4, 5],\n",
    "                  [6, 7, 8, 9, 0]],\n",
    "                 [[1, 2, 3, 4, 5],\n",
    "                  [6, 7, 8, 9, 0],\n",
    "                  [1, 2, 3, 4, 5],\n",
    "                  [6, 7, 8, 9, 0]]],\n",
    "                [[[1, 2, 3, 4, 5],\n",
    "                  [6, 7, 8, 9, 0],\n",
    "                  [1, 2, 3, 4, 5],\n",
    "                  [6, 7, 8, 9, 0]],\n",
    "                 [[1, 2, 3, 4, 5],\n",
    "                  [6, 7, 8, 9, 0],\n",
    "                  [1, 2, 3, 4, 5],\n",
    "                  [6, 7, 8, 9, 0]],\n",
    "                 [[1, 2, 3, 4, 5],\n",
    "                  [6, 7, 8, 9, 0],\n",
    "                  [1, 2, 3, 4, 5],\n",
    "                  [6, 7, 8, 9, 0]]]])\n"
   ]
  },
  {
   "cell_type": "markdown",
   "id": "540f8d57-6cc0-4e53-8744-787e868276a4",
   "metadata": {},
   "source": [
    "# Q3"
   ]
  },
  {
   "cell_type": "markdown",
   "id": "37497bad-10e3-4c65-b4f6-65bb5ed0b00d",
   "metadata": {},
   "source": [
    "Statement: Given a 4D NumPy array arr of shape (2, 3, 4, 5), write a code snippet to calculate the mean along the second axis.\n",
    "\n",
    "Sample Input:"
   ]
  },
  {
   "cell_type": "code",
   "execution_count": 17,
   "id": "84df3761-5341-4010-b541-6a79a1b74625",
   "metadata": {},
   "outputs": [],
   "source": [
    "arr = np.array([[[[1, 2, 3, 4, 5],\n",
    "                  [6, 7, 8, 9, 0],\n",
    "                  [1, 2, 3, 4, 5],\n",
    "                  [6, 7, 8, 9, 0]],\n",
    "                 [[1, 2, 3, 4, 5],\n",
    "                  [6, 7, 8, 9, 0],\n",
    "                  [1, 2, 3, 4, 5],\n",
    "                  [6, 7, 8, 9, 0]],\n",
    "                 [[1, 2, 3, 4, 5],\n",
    "                  [6, 7, 8, 9, 0],\n",
    "                  [1, 2, 3, 4, 5],\n",
    "                  [6, 7, 8, 9, 0]]],\n",
    "                [[[1, 2, 3, 4, 5],\n",
    "                  [6, 7, 8, 9, 0],\n",
    "                  [1, 2, 3, 4, 5],\n",
    "                  [6, 7, 8, 9, 0]],\n",
    "                 [[1, 2, 3, 4, 5],\n",
    "                  [6, 7, 8, 9, 0],\n",
    "                  [1, 2, 3, 4, 5],\n",
    "                  [6, 7, 8, 9, 0]],\n",
    "                 [[1, 2, 3, 4, 5],\n",
    "                  [6, 7, 8, 9, 0],\n",
    "                  [1, 2, 3, 4, 5],\n",
    "                  [6, 7, 8, 9, 0]]]])\n"
   ]
  },
  {
   "cell_type": "markdown",
   "id": "cdec8964-f0c4-41d1-9e6a-838c2b5b137b",
   "metadata": {},
   "source": [
    "sample output\n",
    "\n",
    "    array([[[3., 4., 5., 6., 2.],\n",
    "        [3., 4., 5., 6., 2.],\n",
    "        [3., 4., 5., 6., 2.]],\n",
    "\n",
    "       [[3., 4., 5., 6., 2.],\n",
    "        [3., 4., 5., 6., 2.],\n",
    "        [3., 4., 5., 6., 2.]]])"
   ]
  },
  {
   "cell_type": "markdown",
   "id": "9d4cd387-ca18-4951-a1ab-63a7a1f80a0d",
   "metadata": {},
   "source": [
    "# Q4"
   ]
  },
  {
   "cell_type": "markdown",
   "id": "768891f0-dd85-4a6b-a336-31061a30945f",
   "metadata": {},
   "source": [
    "Statement: You have collected data from a temperature sensor placed at different locations over a period of time. The recorded temperatures are stored in a 3D NumPy array temps of shape (7, 24, 60), where the dimensions represent the number of days, hours in a day, and minutes in an hour, respectively. Write a code snippet to calculate the average temperature for each day.\n",
    "\n",
    "Sample Input:"
   ]
  },
  {
   "cell_type": "code",
   "execution_count": 18,
   "id": "905df96f-ee7f-410f-adae-88758871af96",
   "metadata": {},
   "outputs": [],
   "source": [
    "temps = np.random.uniform(20, 30, size=(7, 24, 60))\n"
   ]
  },
  {
   "cell_type": "markdown",
   "id": "f8913844-39a1-4d9b-a434-7af478336f20",
   "metadata": {},
   "source": [
    "Sample Output:\n",
    "\n",
    "array([27.43864059, 26.99643944, 27.10398301, 27.43854821, 26.81072977,\n",
    "       26.76581481, 27.07946152])"
   ]
  },
  {
   "cell_type": "markdown",
   "id": "55a224ca-01c9-4b13-8bc9-1db7269a35d5",
   "metadata": {},
   "source": [
    "# Q5"
   ]
  },
  {
   "cell_type": "markdown",
   "id": "af5efd9b-ff4f-4ae1-af9a-da9bf621d3bd",
   "metadata": {},
   "source": [
    "Statement: You have collected data from multiple sensors placed in different rooms of a building. The sensor readings are stored in a 4D NumPy array readings of shape (4, 7, 24, 60), where the dimensions represent the number of sensors, number of days, hours in a day, and minutes in an hour, respectively. Write a code snippet to calculate the maximum reading for each sensor across all days."
   ]
  },
  {
   "cell_type": "code",
   "execution_count": 19,
   "id": "79873e69-35ad-4bde-ba48-cf33218b1dc2",
   "metadata": {},
   "outputs": [],
   "source": [
    "readings = np.random.uniform(0, 100, size=(4, 7, 24, 60))"
   ]
  },
  {
   "cell_type": "markdown",
   "id": "90b1b3d2-e509-45f5-958a-f9cd9309be51",
   "metadata": {},
   "source": [
    "sample output\n",
    "\n",
    "    array([[[89.88897518, 99.99682854, 98.19981421, 99.40158174, ... ],\n",
    "            [98.70094742, 95.39951638, 99.50168002, 96.82372648, ... ],\n",
    "            ...\n",
    "            [93.46395392, 99.87243731, 99.09810046, 98.38483756, ... ]],\n",
    "\n",
    "           ...\n",
    "\n",
    "           [[94.26820117, 96.70415288, 93.48840635, 99.19723072, ... ],\n",
    "            [99.78681615, 99.72712071, 97.34898231, 96.91537692, ... ],\n",
    "            ...\n",
    "            [98.20187725, 99.08541701, 94.79835262, 99.10678603, ... ]]])\n"
   ]
  },
  {
   "cell_type": "markdown",
   "id": "e8ca2836-0977-4b11-a214-a93630131927",
   "metadata": {},
   "source": [
    "# Q6"
   ]
  },
  {
   "cell_type": "markdown",
   "id": "b324cb33-b481-4cf8-a148-9292ec382a8c",
   "metadata": {},
   "source": [
    "Statement: You have collected data from a 3D printer that measures the dimensions of printed objects. The recorded dimensions are stored in a 3D NumPy array dimensions of shape (100, 50, 3), where the dimensions represent the number of printed objects, number of measurements for each object, and the three dimensions (length, width, height), respectively. Write a code snippet to calculate the average length, width, and height across all objects.\n",
    "\n",
    "Sample Inpumt:"
   ]
  },
  {
   "cell_type": "code",
   "execution_count": 20,
   "id": "d1199cf1-5f47-45f5-a090-615021490d8e",
   "metadata": {},
   "outputs": [],
   "source": [
    "dimensions = np.random.uniform(1, 10, size=(100, 50, 3))\n"
   ]
  },
  {
   "cell_type": "markdown",
   "id": "e8ccb3e5-353e-4da0-a146-f093af733ac6",
   "metadata": {},
   "source": [
    "Sample Output:\n",
    "\n",
    "    array([4.99825313, 4.99388198, 5.00162036])"
   ]
  },
  {
   "cell_type": "markdown",
   "id": "a3c20cfa-7ad6-437b-8837-1eabded47ac7",
   "metadata": {},
   "source": [
    "# Q7"
   ]
  },
  {
   "cell_type": "markdown",
   "id": "c5c5e835-2d6d-4bec-a700-4125e2ea7375",
   "metadata": {},
   "source": [
    "Statement: You are given a 3D NumPy array data of shape (5, 6, 7) representing the sensor readings from multiple sensors placed in different locations over a period of time. Each sensor provides measurements at different time points. Write a code snippet to calculate the following statistics for each sensor:\n",
    "\n",
    "Total number of measurements\n",
    "\n",
    "Average measurement value\n",
    "\n",
    "Standard deviation of measurements\n",
    "\n",
    "Minimum measurement value\n",
    "\n",
    "Maximum measurement value\n",
    "\n",
    "Sample Input:"
   ]
  },
  {
   "cell_type": "code",
   "execution_count": 21,
   "id": "46256376-8395-460c-a736-71a83252e47f",
   "metadata": {},
   "outputs": [],
   "source": [
    "data = np.random.normal(0, 1, size=(5, 6, 7))\n"
   ]
  },
  {
   "cell_type": "markdown",
   "id": "3fe0d9fb-2aef-4832-8d0d-f7091515585c",
   "metadata": {},
   "source": [
    "array([[[ 0.49201792,  0.1398731 , -1.22360891,  0.68220125, ..., -0.66727106],  \n",
    "        [ 0.03087228, -1.28243699, -0.31224707, -0.14677595, ..., -1.79206518],  \n",
    "        ...  \n",
    "        [ 0.56072784,  0.24393479, -0.94418075, -1.58076437, ..., -0.13282093]]])  \n",
    "\n",
    "Sensor 1:  \n",
    "Total measurements: 42  \n",
    "Average measurement: -0.038  \n",
    "Standard deviation: 0.961  \n",
    "Minimum measurement: -2.401  \n",
    "Maximum measurement: 1.793  \n",
    "\n",
    "Sensor 2:  \n",
    "Total measurements: 42  \n",
    "Average measurement: 0.059  \n",
    "Standard deviation: 0.980  \n",
    "Minimum measurement: -2.504  \n",
    "Maximum measurement: 1.616  \n",
    "\n",
    "...\n",
    "\n",
    "Sensor 5:  \n",
    "Total measurements: 42  \n",
    "Average measurement: -0.043  \n",
    "Standard deviation: 1.038  \n",
    "Minimum measurement: -2.277  \n",
    "Maximum measurement: 1.852  \n"
   ]
  },
  {
   "cell_type": "code",
   "execution_count": null,
   "id": "87f085a1-fec3-40e5-90db-d535c0de01c0",
   "metadata": {},
   "outputs": [],
   "source": []
  }
 ],
 "metadata": {
  "kernelspec": {
   "display_name": "Python 3 (ipykernel)",
   "language": "python",
   "name": "python3"
  },
  "language_info": {
   "codemirror_mode": {
    "name": "ipython",
    "version": 3
   },
   "file_extension": ".py",
   "mimetype": "text/x-python",
   "name": "python",
   "nbconvert_exporter": "python",
   "pygments_lexer": "ipython3",
   "version": "3.10.8"
  }
 },
 "nbformat": 4,
 "nbformat_minor": 5
}
